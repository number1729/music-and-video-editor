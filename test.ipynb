{
 "cells": [
  {
   "cell_type": "code",
   "execution_count": 30,
   "metadata": {},
   "outputs": [],
   "source": [
    "import whisper\n",
    "import pandas as pd\n",
    "import os"
   ]
  },
  {
   "cell_type": "code",
   "execution_count": 31,
   "metadata": {},
   "outputs": [],
   "source": [
    "RED = '\\033[31m'\n",
    "GREEN_BOLD = '\\033[1;32m'\n",
    "YELLOW = '\\033[33m'\n",
    "BLUE = '\\033[34m'\n",
    "END = '\\033[0m'\n",
    "\n",
    "\n",
    "def print_with_color(text, color):\n",
    "    print(color + text + END)"
   ]
  },
  {
   "cell_type": "code",
   "execution_count": 32,
   "metadata": {},
   "outputs": [],
   "source": [
    "def get_lyrics_file_path(folder_name, file_name):\n",
    "    desktop_path = os.path.expanduser(\"~/Desktop\")\n",
    "    new_folder_path = os.path.join(desktop_path, folder_name)\n",
    "    new_folder_path = os.path.join(new_folder_path, \"lyrics\")\n",
    "    if not os.path.exists(new_folder_path):\n",
    "        os.makedirs(new_folder_path)\n",
    "    file_path = os.path.join(new_folder_path, file_name)\n",
    "\n",
    "    return file_path"
   ]
  },
  {
   "cell_type": "code",
   "execution_count": 33,
   "metadata": {},
   "outputs": [],
   "source": [
    "import librosa\n",
    "\n",
    "\n",
    "def is_valid_transcribe(whisper_df, music_file_path):\n",
    "    transcribed_len = whisper_df[\"end\"].to_numpy()[-1]\n",
    "    original_len = librosa.get_duration(path=music_file_path)\n",
    "    print(transcribed_len, original_len)\n",
    "    return transcribed_len/original_len > 0.9"
   ]
  },
  {
   "cell_type": "code",
   "execution_count": 34,
   "metadata": {},
   "outputs": [],
   "source": [
    "def transcribe(path, model_quality, is_forced=False):\n",
    "    print_with_color(path, BLUE)\n",
    "    model = whisper.load_model(model_quality)\n",
    "    target_file_path = get_lyrics_file_path(\n",
    "        \"edited_files\", f\"{os.path.basename(path).split('.')[0]}.csv\")\n",
    "    if os.path.exists(target_file_path) & (not is_forced):\n",
    "        print_with_color(\"already exists\", YELLOW)\n",
    "        return\n",
    "    result = model.transcribe(\n",
    "        path, verbose=True, language=\"ja\")\n",
    "    df_1 = pd.DataFrame(result[\"segments\"])\n",
    "    is_valid_transcribe(df_1, path)\n",
    "    df_1.to_csv(target_file_path)"
   ]
  },
  {
   "cell_type": "code",
   "execution_count": 35,
   "metadata": {},
   "outputs": [],
   "source": [
    "def record_job(dir_path, model_quality, is_forced=False):\n",
    "    print_with_color(\"record_job_start\", GREEN_BOLD)\n",
    "    print_with_color(model_quality, BLUE)\n",
    "    files_path_list = os.listdir(dir_path)\n",
    "    files_path_list = [os.path.join(dir_path, file_path) for file_path in files_path_list if file_path.endswith(\n",
    "        \".mp3\") or file_path.endswith(\".mp4\")]\n",
    "    files_path_list\n",
    "    for file_path in files_path_list:\n",
    "        transcribe(file_path, model_quality, is_forced=is_forced)\n",
    "    print_with_color(\"record_job done\", GREEN_BOLD)"
   ]
  },
  {
   "cell_type": "code",
   "execution_count": null,
   "metadata": {},
   "outputs": [],
   "source": [
    "record_job(\"/Users/itouhikaru/Downloads\", \"base\", True)"
   ]
  },
  {
   "cell_type": "code",
   "execution_count": null,
   "metadata": {},
   "outputs": [],
   "source": []
  }
 ],
 "metadata": {
  "kernelspec": {
   "display_name": "Python 3",
   "language": "python",
   "name": "python3"
  },
  "language_info": {
   "codemirror_mode": {
    "name": "ipython",
    "version": 3
   },
   "file_extension": ".py",
   "mimetype": "text/x-python",
   "name": "python",
   "nbconvert_exporter": "python",
   "pygments_lexer": "ipython3",
   "version": "3.11.4"
  },
  "orig_nbformat": 4
 },
 "nbformat": 4,
 "nbformat_minor": 2
}
