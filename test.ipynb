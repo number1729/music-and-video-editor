{
 "cells": [
  {
   "cell_type": "code",
   "execution_count": 51,
   "metadata": {},
   "outputs": [],
   "source": [
    "import whisper\n",
    "import pandas as pd\n",
    "import os\n",
    "import schedule"
   ]
  },
  {
   "cell_type": "code",
   "execution_count": 59,
   "metadata": {},
   "outputs": [],
   "source": [
    "def get_lyrics_file_path(folder_name, file_name):\n",
    "    desktop_path = os.path.expanduser(\"~/Desktop\")\n",
    "    new_folder_path = os.path.join(desktop_path, folder_name)\n",
    "    new_folder_path = os.path.join(new_folder_path, \"lyrics\")\n",
    "    if not os.path.exists(new_folder_path):\n",
    "        os.makedirs(new_folder_path)\n",
    "    file_path = os.path.join(new_folder_path, file_name)\n",
    "\n",
    "    return file_path"
   ]
  },
  {
   "cell_type": "code",
   "execution_count": 38,
   "metadata": {},
   "outputs": [],
   "source": [
    "import librosa\n",
    "\n",
    "\n",
    "def is_valid_transcribe(whisper_df, music_file_path):\n",
    "    transcribed_len = whisper_df[\"end\"].to_numpy()[-1]\n",
    "    original_len = librosa.get_duration(path=music_file_path)\n",
    "    print(transcribed_len, original_len)\n",
    "    return transcribed_len/original_len > 0.9"
   ]
  },
  {
   "cell_type": "code",
   "execution_count": 60,
   "metadata": {},
   "outputs": [],
   "source": [
    "def transcribe(path, is_forced=False):\n",
    "    model = whisper.load_model(\"base\")\n",
    "    path = path\n",
    "    target_file_path = get_lyrics_file_path(\n",
    "        \"edited_files\", f\"{os.path.basename(path).split('.')[0]}.csv\")\n",
    "    if os.path.exists(target_file_path) & (not is_forced):\n",
    "        print(\"already exists\")\n",
    "        exit()\n",
    "    result = model.transcribe(\n",
    "        path, verbose=True, language=\"ja\")\n",
    "    df_1 = pd.DataFrame(result[\"segments\"])\n",
    "    is_valid_transcribe(df_1, path)\n",
    "    df_1.to_csv(target_file_path)"
   ]
  },
  {
   "cell_type": "code",
   "execution_count": 36,
   "metadata": {},
   "outputs": [],
   "source": []
  },
  {
   "cell_type": "code",
   "execution_count": null,
   "metadata": {},
   "outputs": [],
   "source": []
  },
  {
   "cell_type": "code",
   "execution_count": 61,
   "metadata": {},
   "outputs": [
    {
     "data": {
      "text/plain": [
       "[{'start': 30.0, 'end': 35.480000000000004, 'text': 'そういうと 起こる君'},\n",
       " {'start': 40.48, 'end': 45.92, 'text': '心が体を追い越してきたんだよ'},\n",
       " {'start': 45.92, 'end': 51.760000000000005, 'text': '君の髪焼きと見だけで胸が痛いよ'},\n",
       " {'start': 51.760000000000005, 'end': 56.56, 'text': '同じ時を吸い込んで話したくないよ'},\n",
       " {'start': 64.48, 'end': 69.16, 'text': '何を言えばいい?'},\n",
       " {'start': 73.84, 'end': 79.2, 'text': 'その武器 頂らない方でかけてやってきたんだよ'},\n",
       " {'start': 84.0, 'end': 88.8, 'text': 'もう迷わないまた一から探し始めるさ'},\n",
       " {'start': 109.4, 'end': 115.2, 'text': '君が眠っていた間のストーリー'},\n",
       " {'start': 124.68, 'end': 130.36, 'text': 'けどいざその姿この目に映すと'},\n",
       " {'start': 144.92, 'end': 152.51999999999998, 'text': 'その手を壊さず 通り言ったならない'},\n",
       " {'start': 167.51999999999998, 'end': 172.32, 'text': 'もう迷わない君の跨ってに働けるよ'},\n",
       " {'start': 172.32, 'end': 178.32, 'text': '今日は僕から諦め方を奪い取ったの'},\n",
       " {'start': 198.32, 'end': 203.32, 'text': '君がな子分かんない'},\n",
       " {'start': 203.32, 'end': 207.32, 'text': '君がな子分かんない'},\n",
       " {'start': 207.32, 'end': 211.32, 'text': '君がな子分かんない'},\n",
       " {'start': 211.32, 'end': 216.32, 'text': '君がな子分かんない'},\n",
       " {'start': 216.32, 'end': 221.32, 'text': '君がな子分かんない'},\n",
       " {'start': 221.32, 'end': 226.32, 'text': '君がな子分かんない'},\n",
       " {'start': 238.32, 'end': 243.32, 'text': 'その時一応 笑い方を願ってやってきたんだよ'},\n",
       " {'start': 248.32, 'end': 253.32, 'text': 'もう迷わないまた一から 探し始めるさ'},\n",
       " {'start': 283.32, 'end': 289.32, 'text': '君がな子分かんない'}]"
      ]
     },
     "execution_count": 61,
     "metadata": {},
     "output_type": "execute_result"
    }
   ],
   "source": [
    "file_path = get_lyrics_file_path(\"edited_files\", \"output.csv\")\n",
    "df = pd.read_csv(file_path)\n",
    "df[df[\"text\"].str.contains(\"い\")][[\"start\", \"end\", \"text\"]\n",
    "                                 ].to_dict(orient=\"records\")"
   ]
  },
  {
   "cell_type": "code",
   "execution_count": 62,
   "metadata": {},
   "outputs": [
    {
     "data": {
      "text/plain": [
       "'/Users/itouhikaru/Desktop/edited_files/lyrics/output.csv'"
      ]
     },
     "execution_count": 62,
     "metadata": {},
     "output_type": "execute_result"
    }
   ],
   "source": [
    "get_lyrics_file_path(\"edited_files\", \"output.csv\")"
   ]
  },
  {
   "cell_type": "code",
   "execution_count": 63,
   "metadata": {},
   "outputs": [],
   "source": [
    "def record_job():\n",
    "    print(\"record_job\")\n",
    "    dir_path = \"/Users/itouhikaru/Downloads/\"\n",
    "    files_path_list = os.listdir(dir_path)\n",
    "    files_path_list = [os.path.join(dir_path, file_path) for file_path in files_path_list if file_path.endswith(\n",
    "        \".mp3\") or file_path.endswith(\".mp4\")]\n",
    "    files_path_list\n",
    "    for file_path in files_path_list:\n",
    "        transcribe(file_path)"
   ]
  },
  {
   "cell_type": "code",
   "execution_count": 64,
   "metadata": {},
   "outputs": [
    {
     "data": {
      "text/plain": [
       "Every 1 day at 08:39:00 do record_job() (last run: [never], next run: 2023-10-14 08:39:00)"
      ]
     },
     "execution_count": 64,
     "metadata": {},
     "output_type": "execute_result"
    }
   ],
   "source": [
    "schedule.every().day.at(\"08:39\").do(record_job)"
   ]
  },
  {
   "cell_type": "code",
   "execution_count": 65,
   "metadata": {},
   "outputs": [
    {
     "name": "stdout",
     "output_type": "stream",
     "text": [
      "record_job\n"
     ]
    },
    {
     "name": "stderr",
     "output_type": "stream",
     "text": [
      "/opt/homebrew/lib/python3.11/site-packages/whisper/transcribe.py:114: UserWarning: FP16 is not supported on CPU; using FP32 instead\n",
      "  warnings.warn(\"FP16 is not supported on CPU; using FP32 instead\")\n"
     ]
    },
    {
     "name": "stdout",
     "output_type": "stream",
     "text": [
      "[00:00.000 --> 00:04.000] では一郎選手に来ていただきましたおめでとうな\n",
      "[00:04.000 --> 00:05.500] わざっ\n",
      "[00:05.500 --> 00:06.700] 世界一\n",
      "[00:06.700 --> 00:08.800] 2体回連続\n",
      "[00:08.800 --> 00:12.200] 奪い返しました\n",
      "[00:12.200 --> 00:17.400] いやーもう苦しいところから始まって\n",
      "[00:17.400 --> 00:20.200] 苦しさから辛さになって\n",
      "[00:20.200 --> 00:24.200] 辛さを越えたら今度は痛みが来て心がね\n",
      "[00:24.200 --> 00:26.400] でも最終的に\n",
      "[00:26.400 --> 00:31.100] こうやってみんなで笑顔になれたこと\n",
      "[00:31.100 --> 00:36.600] 日本のファンの人たち\n",
      "[00:36.600 --> 00:40.200] 笑顔が届けられたこと\n",
      "[00:40.200 --> 00:42.000] 最高です\n",
      "[00:42.000 --> 00:43.200] それを一郎さん\n",
      "[00:43.200 --> 00:44.400] 水から\n",
      "[00:44.400 --> 00:46.400] ドアウトランダー2類3類で\n",
      "[00:46.400 --> 00:49.400] 先端前持ってきましたね\n",
      "[00:49.400 --> 00:52.200] 僕は持ってますねやっぱり\n",
      "[00:52.200 --> 00:54.200] いやー神が降りてきましたね\n",
      "[00:54.200 --> 00:57.200] いやーここで打ったらいやーもうあの助きでは\n",
      "[00:57.200 --> 01:00.400] ああもうこれ日本からの目がものすごいことになってると思って\n",
      "[01:00.400 --> 01:03.400] それをあのなんか自分の中で実況しながら\n",
      "[01:03.400 --> 01:06.400] 助きに入っていてまあそういう時で結果出ないんですけど\n",
      "[01:06.400 --> 01:10.400] いやちょっと一つ壁を越えたら気がしましたね\n",
      "[01:10.400 --> 01:13.900] この大会が始まってもう先ほど一郎さんをしてましたけど\n",
      "[01:13.900 --> 01:15.100] 山ありたにあり\n",
      "[01:15.100 --> 01:18.300] で最後は二章に入れ迎えたこの頂上決戦でした\n",
      "[01:18.300 --> 01:20.100] いやー他にしかなかったですけど\n",
      "[01:20.100 --> 01:23.100] 最後に山に登れてわってです\n",
      "[01:23.200 --> 01:26.800] そしてこのドジャースタジアもう一週した思いはいかがでした\n",
      "[01:26.800 --> 01:29.200] 気持ちを買ったですねもう\n",
      "[01:29.200 --> 01:30.800] ほぼ息かけました\n",
      "[01:30.800 --> 01:32.300] はいすません\n",
      "[01:32.300 --> 01:33.300] 一郎さん\n",
      "[01:33.300 --> 01:36.100] 広まろうもった方がたくさんいますよ\n",
      "[01:36.100 --> 01:38.600] もうね日本の皆さんもあの\n",
      "[01:38.600 --> 01:41.800] 急状に息を来てくださった皆さんも日本からの\n",
      "[01:41.800 --> 01:44.800] あの自然も\n",
      "[01:44.800 --> 01:48.000] 全ての方に感謝したいです\n",
      "[01:48.000 --> 01:49.100] ありがとうございました\n",
      "[01:49.100 --> 01:52.500] 今日ダーガウトで最初に世界地域ぞと\n",
      "[01:52.600 --> 01:53.800] 引っ越えちゃいましたか\n",
      "[01:53.800 --> 01:56.500] 最後にあの\n",
      "[01:56.500 --> 01:59.420] 今回はですね前回みたいに毎朝にまっしゃい\n",
      "[01:59.420 --> 02:00.700] 少子とは知らなかったんです\n",
      "[02:00.700 --> 02:04.500] というのはあのみんながもうすごいテンションが上がって\n",
      "[02:04.500 --> 02:06.000] もう一応がなかったんですよね\n",
      "[02:06.000 --> 02:09.100] でもさすがに今日だけはもう行くぞと\n",
      "[02:09.100 --> 02:10.100] いう思いで\n",
      "[02:10.100 --> 02:12.300] えーやっちゃいました\n",
      "[02:12.300 --> 02:14.300] さあこれからションパンパイトが待ってます\n",
      "[02:14.300 --> 02:15.300] はい\n",
      "[02:15.300 --> 02:17.400] えー3年ぶり\n",
      "[02:17.400 --> 02:19.500] シーズンでも僕やったことはないので\n",
      "[02:19.500 --> 02:21.100] 思いっきり上げてきます\n",
      "[02:21.200 --> 02:22.200] 世界地域をめとうございます\n",
      "[02:22.200 --> 02:22.700] はいです\n",
      "[02:22.700 --> 02:23.700] ありがとうございます\n"
     ]
    },
    {
     "name": "stderr",
     "output_type": "stream",
     "text": [
      "/var/folders/km/rlhk3k8x73v_63b8j0frtmlr0000gn/T/ipykernel_5717/3990188904.py:4: FutureWarning: PySoundFile failed. Trying audioread instead.\n",
      "\tAudioread support is deprecated in librosa 0.10.0 and will be removed in version 1.0.\n",
      "  original_len = librosa.get_duration(path=music_file_path)\n"
     ]
    },
    {
     "name": "stdout",
     "output_type": "stream",
     "text": [
      "143.7 145.68054421768707\n"
     ]
    },
    {
     "name": "stderr",
     "output_type": "stream",
     "text": [
      "/opt/homebrew/lib/python3.11/site-packages/whisper/transcribe.py:114: UserWarning: FP16 is not supported on CPU; using FP32 instead\n",
      "  warnings.warn(\"FP16 is not supported on CPU; using FP32 instead\")\n"
     ]
    },
    {
     "name": "stdout",
     "output_type": "stream",
     "text": [
      "[00:00.000 --> 00:04.840] 君の全然全然 セカラボクは君を探し始めたよ\n",
      "[00:04.840 --> 00:10.000] その武器一応の笑い方を出かけてやってきたんだよ\n",
      "10.0 10.0\n",
      "already exists\n"
     ]
    },
    {
     "name": "stderr",
     "output_type": "stream",
     "text": [
      "/opt/homebrew/lib/python3.11/site-packages/whisper/transcribe.py:114: UserWarning: FP16 is not supported on CPU; using FP32 instead\n",
      "  warnings.warn(\"FP16 is not supported on CPU; using FP32 instead\")\n"
     ]
    },
    {
     "name": "stdout",
     "output_type": "stream",
     "text": [
      "[00:00.000 --> 00:00.010] さて、お前は、お前は、お前は、お前は、お前は、お前は、お前は、お前は、お前は、お前は、お前は、お前は、お前は、お前は、お前は、お前は、お前は、お前は、お前は、お前は、お前は、お前は、お前は、お前は、お前は、お前は、お前は、お前は、お前は、お前は、お前は、お前は、お前は、お前は、お前は、お前は、お前は、お前は、お前は、お前は、お前は、お前は、お前は、お前は、お前は、お前は、お前は、お前は、お前は、お前は、お前は、お前は、お前は、お前は、お前は、\n",
      "0.01 0.01\n",
      "already exists\n"
     ]
    },
    {
     "name": "stderr",
     "output_type": "stream",
     "text": [
      "/opt/homebrew/lib/python3.11/site-packages/whisper/transcribe.py:114: UserWarning: FP16 is not supported on CPU; using FP32 instead\n",
      "  warnings.warn(\"FP16 is not supported on CPU; using FP32 instead\")\n"
     ]
    },
    {
     "name": "stdout",
     "output_type": "stream",
     "text": [
      "[00:00.000 --> 00:07.000] いやーもう苦しいところから始まって\n",
      "[00:07.000 --> 00:10.000] 苦したから辛さになって\n",
      "10.0 10.015600907029478\n"
     ]
    },
    {
     "name": "stderr",
     "output_type": "stream",
     "text": [
      "/var/folders/km/rlhk3k8x73v_63b8j0frtmlr0000gn/T/ipykernel_5717/3990188904.py:4: FutureWarning: PySoundFile failed. Trying audioread instead.\n",
      "\tAudioread support is deprecated in librosa 0.10.0 and will be removed in version 1.0.\n",
      "  original_len = librosa.get_duration(path=music_file_path)\n"
     ]
    },
    {
     "name": "stdout",
     "output_type": "stream",
     "text": [
      "already exists\n"
     ]
    },
    {
     "name": "stderr",
     "output_type": "stream",
     "text": [
      "/opt/homebrew/lib/python3.11/site-packages/whisper/transcribe.py:114: UserWarning: FP16 is not supported on CPU; using FP32 instead\n",
      "  warnings.warn(\"FP16 is not supported on CPU; using FP32 instead\")\n"
     ]
    },
    {
     "name": "stdout",
     "output_type": "stream",
     "text": [
      "[00:00.000 --> 00:24.600] この君だった真面白い\n",
      "[00:24.600 --> 00:29.600] それだのになぜ目も合わせやしないんだい\n",
      "[00:29.600 --> 00:34.600] そういうと起こる君\n",
      "[00:34.600 --> 00:39.600] これでもやれるだけ飛ばしてきたんだよ\n",
      "[00:39.600 --> 00:44.600] 心が体を追い越してきたんだよ\n",
      "[00:44.600 --> 00:50.600] 君の髪はきっと見だけで胸が痛いよ\n",
      "[00:50.600 --> 00:55.600] 同じ時を吸い込んであらしたくないよ\n",
      "[00:55.600 --> 01:04.600] 歯の軽かしからしるその声に生まれて初めて\n",
      "[01:04.600 --> 01:08.600] 何を言えばいい?\n",
      "[01:08.600 --> 01:13.600] 君の全然全世から僕は君を探し始めたよ\n",
      "[01:13.600 --> 01:18.600] その武器長の笑い方を出かけてやってきたんだよ\n",
      "[01:18.600 --> 01:23.600] 君が全然全部なってちりちりになったって\n",
      "[01:23.600 --> 01:28.600] もう迷わないまた1から探し始めるさ\n",
      "[01:28.600 --> 01:33.600] むしろゼロからまたうちを始めてみようか\n",
      "[01:33.600 --> 01:40.600] ここから離すかな?\n",
      "[01:40.600 --> 01:53.600] 君が眠っていた間のストーリー\n",
      "[01:53.600 --> 01:58.600] 何処連?\n",
      "[01:59.600 --> 02:04.600] 運の物語を語りに来たんだよ\n",
      "[02:04.600 --> 02:10.600] けどいざその姿この目に映すと\n",
      "[02:10.600 --> 02:15.600] 君も知らぬ君とされて並べれたよ\n",
      "[02:15.600 --> 02:20.600] 君の消える痛みまで愛してみたよ\n",
      "[02:20.600 --> 02:25.600] 君がな子分かの果てに出会えた\n",
      "[02:25.600 --> 02:32.600] この手を壊さず通り言ったならない\n",
      "[02:32.600 --> 02:37.600] 君の全然全世から僕は君を探し始めたよ\n",
      "[02:37.600 --> 02:42.600] その騒がし声と涙を目が出かけてきたんだよ\n",
      "[02:42.600 --> 02:47.600] そんな確明戦闇の僕らを誰が止めると言うんだよ\n",
      "[02:47.600 --> 02:52.600] もう迷わない君のハートに肩を立てるよ\n",
      "[02:52.600 --> 02:58.600] 僕から諦めた方を奪い取ったの\n",
      "[03:23.600 --> 03:29.600] 君の全然全世から僕は君を探し始める\n",
      "[03:29.600 --> 03:36.600] 君の全然全世から僕は君を探し始める\n",
      "[03:36.600 --> 03:44.600] 君の全然全世から僕は君を探し始める\n",
      "[03:45.600 --> 03:50.600] 全然全世から僕は君を探し始めたよ\n",
      "[03:50.600 --> 03:56.600] その時一応悪い方を目がけてやってきたんだよ\n",
      "[03:56.600 --> 04:00.600] 君の全然全分なくなって地理地理になったって\n",
      "[04:00.600 --> 04:04.600] もう迷わないまた一から探し始めるさ\n",
      "[04:04.600 --> 04:10.600] 何処連でもこの歌を口伝みながら\n",
      "[04:34.600 --> 04:35.600] 作詞・作曲・作曲・作曲・作曲・作曲・作曲・作曲・作曲・作曲・作曲・作曲・作曲・作曲・作曲・作曲・作曲・作曲・作曲・作曲・作曲・作曲・作曲・作曲・作曲・作曲・作曲・作曲・作曲・作曲・作曲・作曲・作曲・作曲・作曲・作曲・作曲・作曲・作曲・作曲・作曲・作曲・作曲・作曲・作曲・作曲・作曲・作曲・作曲・作曲・作曲・作曲・作曲・作曲・作曲・作曲・作曲・作・作・作・作・作・作・作・作・作・作・作・作・作・作・作・作・作・作・作・作・作・作・作・作・作\n",
      "275.6 292.2009791666667\n"
     ]
    },
    {
     "name": "stderr",
     "output_type": "stream",
     "text": [
      "/opt/homebrew/lib/python3.11/site-packages/whisper/transcribe.py:114: UserWarning: FP16 is not supported on CPU; using FP32 instead\n",
      "  warnings.warn(\"FP16 is not supported on CPU; using FP32 instead\")\n"
     ]
    },
    {
     "name": "stdout",
     "output_type": "stream",
     "text": [
      "[00:00.000 --> 00:05.220] ばorman\n",
      "[00:12.240 --> 00:15.640] me\n",
      "[00:21.880 --> 00:23.720] sel\n",
      "[00:23.720 --> 00:40.720] 今の私にはお過ぎる 私の記憶の中には\n",
      "[00:40.720 --> 00:47.720] 笑いが終わった 追い昔\n",
      "[00:48.220 --> 00:55.220] いつの日にかあなたがくれた\n",
      "[00:55.220 --> 01:02.220] のの花がの音に張りました\n",
      "[01:02.220 --> 01:09.720] そして私はちょうになり\n",
      "[01:09.720 --> 01:15.720] 夢の中へ飛んでゆくわ\n",
      "[01:16.720 --> 01:19.320] onseى\n",
      "[01:19.320 --> 01:22.820] dee\n",
      "[01:22.820 --> 01:26.160] まぁってまってまっ\n",
      "[01:26.160 --> 01:27.880] あっ\n",
      "[01:27.880 --> 01:31.120] ん\n",
      "[01:31.120 --> 01:33.420] be\n",
      "[01:33.420 --> 01:40.820] 的\n",
      "[01:40.820 --> 01:56.820] 愛しあった日々のことは 今日を最後にしたいけど\n",
      "[01:57.320 --> 02:10.820] あなたを肉む雪さえ 教えてくれなかったわ\n",
      "[02:11.820 --> 02:24.820] 素直な気持ちをあなたに 伝えるすべを知っていたなら\n",
      "[02:25.820 --> 02:39.820] 今は静かに心として 夢の中へ飛んでゆくわ\n",
      "[02:39.820 --> 02:46.320] 飛んで飛んで飛んで飛んで飛んで飛んで飛んで飛んで飛んで\n",
      "[02:46.320 --> 03:08.320] 回って回って回って回って回る\n",
      "[03:16.320 --> 03:26.320] あなたを肉む雪さえ 教えてくれなかったわ\n",
      "[03:35.320 --> 03:44.320] 素直な気持ちをあなたに 伝えるすべを知っていたなら\n",
      "[03:46.320 --> 04:01.320] 今は静かに心として 夢の中へ飛んでゆくわ\n",
      "[04:01.320 --> 04:14.320] 飛んで飛んで飛んで飛んで飛んで飛んで 回って回って回って回る\n",
      "[04:16.320 --> 04:32.320] 飛んで飛んで飛んで飛んで飛んで飛んで飛んで交って回って回って回る\n",
      "[04:46.320 --> 04:49.560] 哇\n",
      "289.56 313.0398333333333\n",
      "record_job\n",
      "already exists\n"
     ]
    },
    {
     "name": "stderr",
     "output_type": "stream",
     "text": [
      "/opt/homebrew/lib/python3.11/site-packages/whisper/transcribe.py:114: UserWarning: FP16 is not supported on CPU; using FP32 instead\n",
      "  warnings.warn(\"FP16 is not supported on CPU; using FP32 instead\")\n"
     ]
    },
    {
     "name": "stdout",
     "output_type": "stream",
     "text": [
      "[00:00.000 --> 00:04.000] では一郎選手に来ていただきましたおめでとうな\n",
      "[00:04.000 --> 00:05.500] わざっ\n",
      "[00:05.500 --> 00:06.700] 世界一\n",
      "[00:06.700 --> 00:08.800] 2体回連続\n",
      "[00:08.800 --> 00:12.200] 奪い返しました\n",
      "[00:12.200 --> 00:17.400] いやーもう苦しいところから始まって\n",
      "[00:17.400 --> 00:20.200] 苦しさから辛さになって\n",
      "[00:20.200 --> 00:24.200] 辛さを越えたら今度は痛みが来て心がね\n",
      "[00:24.200 --> 00:26.400] でも最終的に\n",
      "[00:26.400 --> 00:31.100] こうやってみんなで笑顔になれたこと\n",
      "[00:31.100 --> 00:36.600] 日本のファンの人たち\n",
      "[00:36.600 --> 00:40.200] 笑顔が届けられたこと\n",
      "[00:40.200 --> 00:42.000] 最高です\n",
      "[00:42.000 --> 00:43.200] それを一郎さん\n",
      "[00:43.200 --> 00:44.400] 水から\n",
      "[00:44.400 --> 00:46.400] ドアウトランダー2類3類で\n",
      "[00:46.400 --> 00:49.400] 先端前持ってきましたね\n",
      "[00:49.400 --> 00:52.200] 僕は持ってますねやっぱり\n",
      "[00:52.200 --> 00:54.200] いやー神が降りてきましたね\n",
      "[00:54.200 --> 00:57.200] いやーここで打ったらいやーもうあの助きでは\n",
      "[00:57.200 --> 01:00.400] ああもうこれ日本からの目がものすごいことになってると思って\n",
      "[01:00.400 --> 01:03.400] それをあのなんか自分の中で実況しながら\n",
      "[01:03.400 --> 01:06.400] 助きに入っていてまあそういう時で結果出ないんですけど\n",
      "[01:06.400 --> 01:10.400] いやちょっと一つ壁を越えたら気がしましたね\n",
      "[01:10.400 --> 01:13.900] この大会が始まってもう先ほど一郎さんをしてましたけど\n",
      "[01:13.900 --> 01:15.100] 山ありたにあり\n",
      "[01:15.100 --> 01:18.300] で最後は二章に入れ迎えたこの頂上決戦でした\n",
      "[01:18.300 --> 01:20.100] いやー他にしかなかったですけど\n",
      "[01:20.100 --> 01:23.100] 最後に山に登れてわってです\n",
      "[01:23.200 --> 01:26.800] そしてこのドジャースタジアもう一週した思いはいかがでした\n",
      "[01:26.800 --> 01:29.200] 気持ちを買ったですねもう\n",
      "[01:29.200 --> 01:30.800] ほぼ息かけました\n",
      "[01:30.800 --> 01:32.300] はいすません\n",
      "[01:32.300 --> 01:33.300] 一郎さん\n",
      "[01:33.300 --> 01:36.100] 広まろうもった方がたくさんいますよ\n",
      "[01:36.100 --> 01:38.600] もうね日本の皆さんもあの\n",
      "[01:38.600 --> 01:41.800] 急状に息を来てくださった皆さんも日本からの\n",
      "[01:41.800 --> 01:44.800] あの自然も\n",
      "[01:44.800 --> 01:48.000] 全ての方に感謝したいです\n",
      "[01:48.000 --> 01:49.100] ありがとうございました\n",
      "[01:49.100 --> 01:52.500] 今日ダーガウトで最初に世界地域ぞと\n",
      "[01:52.600 --> 01:53.800] 引っ越えちゃいましたか\n",
      "[01:53.800 --> 01:56.500] 最後にあの\n",
      "[01:56.500 --> 01:59.420] 今回はですね前回みたいに毎朝にまっしゃい\n",
      "[01:59.420 --> 02:00.700] 少子とは知らなかったんです\n",
      "[02:00.700 --> 02:04.500] というのはあのみんながもうすごいテンションが上がって\n",
      "[02:04.500 --> 02:06.000] もう一応がなかったんですよね\n",
      "[02:06.000 --> 02:09.100] でもさすがに今日だけはもう行くぞと\n",
      "[02:09.100 --> 02:10.100] いう思いで\n",
      "[02:10.100 --> 02:12.300] えーやっちゃいました\n",
      "[02:12.300 --> 02:14.300] さあこれからションパンパイトが待ってます\n",
      "[02:14.300 --> 02:15.300] はい\n",
      "[02:15.300 --> 02:17.400] えー3年ぶり\n",
      "[02:17.400 --> 02:19.500] シーズンでも僕やったことはないので\n",
      "[02:19.500 --> 02:21.100] 思いっきり上げてきます\n",
      "[02:21.200 --> 02:22.200] 世界地域をめとうございます\n",
      "[02:22.200 --> 02:22.700] はいです\n",
      "[02:22.700 --> 02:23.700] ありがとうございます\n",
      "143.7 145.68054421768707\n"
     ]
    },
    {
     "name": "stderr",
     "output_type": "stream",
     "text": [
      "/var/folders/km/rlhk3k8x73v_63b8j0frtmlr0000gn/T/ipykernel_5717/3990188904.py:4: FutureWarning: PySoundFile failed. Trying audioread instead.\n",
      "\tAudioread support is deprecated in librosa 0.10.0 and will be removed in version 1.0.\n",
      "  original_len = librosa.get_duration(path=music_file_path)\n"
     ]
    },
    {
     "name": "stdout",
     "output_type": "stream",
     "text": [
      "already exists\n"
     ]
    },
    {
     "name": "stderr",
     "output_type": "stream",
     "text": [
      "/opt/homebrew/lib/python3.11/site-packages/whisper/transcribe.py:114: UserWarning: FP16 is not supported on CPU; using FP32 instead\n",
      "  warnings.warn(\"FP16 is not supported on CPU; using FP32 instead\")\n"
     ]
    },
    {
     "name": "stdout",
     "output_type": "stream",
     "text": [
      "[00:00.000 --> 00:04.840] 君の全然全然 セカラボクは君を探し始めたよ\n",
      "[00:04.840 --> 00:10.000] その武器一応の笑い方を出かけてやってきたんだよ\n",
      "10.0 10.0\n",
      "already exists\n"
     ]
    },
    {
     "name": "stderr",
     "output_type": "stream",
     "text": [
      "/opt/homebrew/lib/python3.11/site-packages/whisper/transcribe.py:114: UserWarning: FP16 is not supported on CPU; using FP32 instead\n",
      "  warnings.warn(\"FP16 is not supported on CPU; using FP32 instead\")\n"
     ]
    },
    {
     "name": "stdout",
     "output_type": "stream",
     "text": [
      "[00:00.000 --> 00:00.010] さて、お前は、お前は、お前は、お前は、お前は、お前は、お前は、お前は、お前は、お前は、お前は、お前は、お前は、お前は、お前は、お前は、お前は、お前は、お前は、お前は、お前は、お前は、お前は、お前は、お前は、お前は、お前は、お前は、お前は、お前は、お前は、お前は、お前は、お前は、お前は、お前は、お前は、お前は、お前は、お前は、お前は、お前は、お前は、お前は、お前は、お前は、お前は、お前は、お前は、お前は、お前は、お前は、お前は、お前は、お前は、\n",
      "0.01 0.01\n",
      "already exists\n"
     ]
    },
    {
     "name": "stderr",
     "output_type": "stream",
     "text": [
      "/opt/homebrew/lib/python3.11/site-packages/whisper/transcribe.py:114: UserWarning: FP16 is not supported on CPU; using FP32 instead\n",
      "  warnings.warn(\"FP16 is not supported on CPU; using FP32 instead\")\n"
     ]
    },
    {
     "name": "stdout",
     "output_type": "stream",
     "text": [
      "[00:00.000 --> 00:07.000] いやーもう苦しいところから始まって\n",
      "[00:07.000 --> 00:10.000] 苦したから辛さになって\n",
      "10.0 10.015600907029478\n"
     ]
    },
    {
     "name": "stderr",
     "output_type": "stream",
     "text": [
      "/var/folders/km/rlhk3k8x73v_63b8j0frtmlr0000gn/T/ipykernel_5717/3990188904.py:4: FutureWarning: PySoundFile failed. Trying audioread instead.\n",
      "\tAudioread support is deprecated in librosa 0.10.0 and will be removed in version 1.0.\n",
      "  original_len = librosa.get_duration(path=music_file_path)\n"
     ]
    },
    {
     "name": "stdout",
     "output_type": "stream",
     "text": [
      "already exists\n"
     ]
    },
    {
     "name": "stderr",
     "output_type": "stream",
     "text": [
      "/opt/homebrew/lib/python3.11/site-packages/whisper/transcribe.py:114: UserWarning: FP16 is not supported on CPU; using FP32 instead\n",
      "  warnings.warn(\"FP16 is not supported on CPU; using FP32 instead\")\n"
     ]
    },
    {
     "name": "stdout",
     "output_type": "stream",
     "text": [
      "[00:00.000 --> 00:02.660] 作戦 草やみ\n",
      "[00:30.000 --> 00:35.480] そういうと 起こる君\n",
      "[00:35.480 --> 00:40.480] これでもやれるだけ飛ばしてきたんだよ\n",
      "[00:40.480 --> 00:45.920] 心が体を追い越してきたんだよ\n",
      "[00:45.920 --> 00:51.760] 君の髪焼きと見だけで胸が痛いよ\n",
      "[00:51.760 --> 00:56.560] 同じ時を吸い込んで話したくないよ\n",
      "[00:56.560 --> 01:04.480] 遥か昔から 心臓の声に生まれて走れて\n",
      "[01:04.480 --> 01:09.160] 何を言えばいい?\n",
      "[01:09.160 --> 01:13.840] 君の全然全然 世から僕は君を探し始めたよ\n",
      "[01:13.840 --> 01:19.200] その武器 頂らない方でかけてやってきたんだよ\n",
      "[01:19.200 --> 01:24.000] 君が全然全部なくなって 知り知りになったって\n",
      "[01:24.000 --> 01:28.800] もう迷わないまた一から探し始めるさ\n",
      "[01:28.800 --> 01:34.000] むしろゼロからまたうちを始めてみようか\n",
      "[01:45.000 --> 01:49.400] ここから話すかな?\n",
      "[01:49.400 --> 01:55.200] 君が眠っていた間のストーリー\n",
      "[01:55.200 --> 01:59.600] 何処でん?\n",
      "[01:59.600 --> 02:04.680] 運の物語を語りに来たんだよ\n",
      "[02:04.680 --> 02:10.360] けどいざその姿この目に映すと\n",
      "[02:10.360 --> 02:15.400] 君も知らぬ君とされて 並べれたよ\n",
      "[02:15.400 --> 02:18.920] 君を消える痛みまで愛してみた\n",
      "[02:19.920 --> 02:24.920] 君がな子分かの果てに出会えた\n",
      "[02:24.920 --> 02:32.520] その手を壊さず 通り言ったならない\n",
      "[02:32.520 --> 02:37.120] 君の全然 世から僕は君を探し始めたよ\n",
      "[02:37.120 --> 02:42.520] その騒がし声と涙を目が出てきたんだよ\n",
      "[02:42.520 --> 02:47.320] そんな確明線やの僕らを誰が止めると言うんだよ\n",
      "[02:47.520 --> 02:52.320] もう迷わない君の跨ってに働けるよ\n",
      "[02:52.320 --> 02:58.320] 今日は僕から諦め方を奪い取ったの\n",
      "[03:18.320 --> 03:23.320] 君がな子分かんない\n",
      "[03:23.320 --> 03:27.320] 君がな子分かんない\n",
      "[03:27.320 --> 03:31.320] 君がな子分かんない\n",
      "[03:31.320 --> 03:36.320] 君がな子分かんない\n",
      "[03:36.320 --> 03:41.320] 君がな子分かんない\n",
      "[03:41.320 --> 03:46.320] 君がな子分かんない\n",
      "[03:47.320 --> 03:48.320] さあ\n",
      "[03:54.320 --> 03:58.320] 全然 世から僕は君を探し始めたよ\n",
      "[03:58.320 --> 04:03.320] その時一応 笑い方を願ってやってきたんだよ\n",
      "[04:03.320 --> 04:08.320] 君が全然 全部なくなって 地理じりになったって\n",
      "[04:08.320 --> 04:13.320] もう迷わないまた一から 探し始めるさ\n",
      "[04:13.320 --> 04:19.320] 何処連でもこの歌を口伝みながら\n",
      "[04:43.320 --> 04:49.320] 君がな子分かんない\n",
      "289.32 292.2009791666667\n",
      "already exists\n"
     ]
    },
    {
     "name": "stderr",
     "output_type": "stream",
     "text": [
      "/opt/homebrew/lib/python3.11/site-packages/whisper/transcribe.py:114: UserWarning: FP16 is not supported on CPU; using FP32 instead\n",
      "  warnings.warn(\"FP16 is not supported on CPU; using FP32 instead\")\n"
     ]
    },
    {
     "name": "stdout",
     "output_type": "stream",
     "text": [
      "[00:00.000 --> 00:03.840] 由来\n",
      "[00:19.820 --> 00:26.460] 忘れてしまいたいことが\n",
      "[00:26.460 --> 00:33.660] 今の私にはお過ぎる\n",
      "[00:33.660 --> 00:41.260] 私の記憶の中には\n",
      "[00:41.260 --> 00:47.860] 笑い顔は遠い昔\n",
      "[00:47.860 --> 00:55.060] いつの日にかあなたがくれた\n",
      "[00:55.060 --> 01:02.260] の花がの音に張りました\n",
      "[01:02.260 --> 01:09.860] そして私はちょうになり\n",
      "[01:09.860 --> 01:16.660] 夢の中へ飛んでゆくわ\n",
      "[01:16.660 --> 01:22.860] 飛んで飛んで飛んで飛んで\n",
      "[01:22.860 --> 01:29.860] 回って回って回って回る\n",
      "[01:29.860 --> 01:36.060] 飛んで飛んで飛んで飛んで飛んで飛んで飛んで\n",
      "[01:36.060 --> 01:43.060] 回って回って回って回る\n",
      "[01:43.060 --> 01:50.260] 愛しいあなた日々のことは\n",
      "[01:50.260 --> 01:57.460] 今日最後にしたいけど\n",
      "[01:57.460 --> 02:04.660] あなたを憎む勇気さえ\n",
      "[02:04.660 --> 02:11.660] 教えてくれない方は\n",
      "[02:11.660 --> 02:18.860] 素直な気持ちをあなたに\n",
      "[02:18.860 --> 02:26.060] 伝えるすべを知っていたなら\n",
      "[02:26.060 --> 02:33.660] 今は静かに心として\n",
      "[02:33.660 --> 02:40.460] 夢の中へ飛んでゆくわ\n",
      "[02:40.460 --> 02:46.460] 飛んで飛んで飛んで飛んで飛んで飛んで飛んで飛んで\n",
      "[02:46.660 --> 02:53.920] 回って回って回って回る\n",
      "[02:53.920 --> 03:08.660] 飛んで飛んで飛んで飛んで飛んで飛んで飛んで behind\n",
      "[03:16.460 --> 03:20.460] さあ\n",
      "[03:35.460 --> 03:42.460] 素直な気持ちをあなたに\n",
      "[03:42.460 --> 03:48.460] 伝えるすべを知っていたなら\n",
      "[03:49.460 --> 03:56.460] 今は静かに心閉じて\n",
      "[03:56.460 --> 04:02.460] 夢の中へ飛んでゆくわ\n",
      "[04:03.460 --> 04:09.460] 飛んで飛んで飛んで飛んで飛んで飛んで飛んで\n",
      "[04:09.460 --> 04:21.560]  cafナン\n",
      "[04:21.560 --> 04:28.560] どんなどんなまわってまわってまわってまわる\n",
      "[04:29.560 --> 04:35.560] どんなどんなどんなどんなどんなどんなどんなどんなどんなどんなどんなどんな\n",
      "[04:35.560 --> 04:42.560] まわってまわってまわってまわる\n",
      "[04:42.560 --> 04:43.560] どんなどんなどんなどんなどんなどんなどんなどんなどんなどんなどんなどんなどんなどんなどんなどんなどんなどんなどんなどんなどんなどんなどんなどんなどんなどんなどんなどんなどんなどんなどんなどんなどんなどんなどんなどんなどんなどんなどんなどんなどんなどんなどんなどんなどんなどんなどんなどんなどんなどんなどんなどんなどんなどんなどんなどんなどんなどんなどんなどんなどんなどんなどんなどんなどんなどんなどんなどんなどんなどんなどんなどんなどんなどんなどんなどんなどんなどんなどんなどんなどんなどんなどんなどんなどんなどんなどんなどんなどんなどんなどんなどんなどんなどんなどんなどんなどんなどんなどんなどんなどんなどんなどんなどんなどんなどんなどんなどんなどんなどんなどんなど\n",
      "283.56 313.0398333333333\n"
     ]
    },
    {
     "ename": "KeyboardInterrupt",
     "evalue": "",
     "output_type": "error",
     "traceback": [
      "\u001b[0;31m---------------------------------------------------------------------------\u001b[0m",
      "\u001b[0;31mKeyboardInterrupt\u001b[0m                         Traceback (most recent call last)",
      "\u001b[1;32m/Users/itouhikaru/Desktop/project/music_file_editor/test.ipynb セル 11\u001b[0m line \u001b[0;36m4\n\u001b[1;32m      <a href='vscode-notebook-cell:/Users/itouhikaru/Desktop/project/music_file_editor/test.ipynb#X13sZmlsZQ%3D%3D?line=1'>2</a>\u001b[0m \u001b[39mwhile\u001b[39;00m \u001b[39mTrue\u001b[39;00m:\n\u001b[1;32m      <a href='vscode-notebook-cell:/Users/itouhikaru/Desktop/project/music_file_editor/test.ipynb#X13sZmlsZQ%3D%3D?line=2'>3</a>\u001b[0m     schedule\u001b[39m.\u001b[39mrun_pending()\n\u001b[0;32m----> <a href='vscode-notebook-cell:/Users/itouhikaru/Desktop/project/music_file_editor/test.ipynb#X13sZmlsZQ%3D%3D?line=3'>4</a>\u001b[0m     time\u001b[39m.\u001b[39msleep(\u001b[39m100\u001b[39m)\n",
      "\u001b[0;31mKeyboardInterrupt\u001b[0m: "
     ]
    },
    {
     "ename": "",
     "evalue": "",
     "output_type": "error",
     "traceback": [
      "\u001b[1;31m現在のセルまたは前のセルでコードを実行中に、カーネルがクラッシュしました。エラーの原因を特定するには、セル内のコードを確認してください。詳細については、<a href='https://aka.ms/vscodeJupyterKernelCrash'>こちら</a> をクリックしてください。さらなる詳細については、Jupyter [log] (command:jupyter.viewOutput) を参照してください。"
     ]
    }
   ],
   "source": [
    "import time\n",
    "while True:\n",
    "    schedule.run_pending()\n",
    "    time.sleep(100)"
   ]
  },
  {
   "cell_type": "code",
   "execution_count": 12,
   "metadata": {},
   "outputs": [],
   "source": [
    "l = [\"11\"]"
   ]
  },
  {
   "cell_type": "code",
   "execution_count": 13,
   "metadata": {},
   "outputs": [
    {
     "data": {
      "text/plain": [
       "'11'"
      ]
     },
     "execution_count": 13,
     "metadata": {},
     "output_type": "execute_result"
    }
   ],
   "source": [
    "l.pop(0)"
   ]
  },
  {
   "cell_type": "code",
   "execution_count": 17,
   "metadata": {},
   "outputs": [
    {
     "data": {
      "text/plain": [
       "True"
      ]
     },
     "execution_count": 17,
     "metadata": {},
     "output_type": "execute_result"
    }
   ],
   "source": [
    "bool(l)"
   ]
  },
  {
   "cell_type": "code",
   "execution_count": 3,
   "metadata": {},
   "outputs": [
    {
     "data": {
      "text/plain": [
       "[0, 1, 2, 3, 4, 5, 6, 7, 8]"
      ]
     },
     "execution_count": 3,
     "metadata": {},
     "output_type": "execute_result"
    }
   ],
   "source": [
    "l"
   ]
  },
  {
   "cell_type": "code",
   "execution_count": null,
   "metadata": {},
   "outputs": [],
   "source": []
  }
 ],
 "metadata": {
  "kernelspec": {
   "display_name": "Python 3",
   "language": "python",
   "name": "python3"
  },
  "language_info": {
   "codemirror_mode": {
    "name": "ipython",
    "version": 3
   },
   "file_extension": ".py",
   "mimetype": "text/x-python",
   "name": "python",
   "nbconvert_exporter": "python",
   "pygments_lexer": "ipython3",
   "version": "3.11.4"
  },
  "orig_nbformat": 4
 },
 "nbformat": 4,
 "nbformat_minor": 2
}
